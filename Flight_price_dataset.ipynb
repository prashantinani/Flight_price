{
 "cells": [
  {
   "cell_type": "markdown",
   "metadata": {},
   "source": [
    "## Importing the  depedancies"
   ]
  },
  {
   "cell_type": "code",
   "execution_count": 198,
   "metadata": {},
   "outputs": [],
   "source": [
    "import pandas as pd\n",
    "import numpy as np\n",
    "from scipy.stats import iqr\n",
    "import matplotlib.pyplot as plt\n",
    "import seaborn as sns\n",
    "from sklearn import *\n",
    "from warnings import filterwarnings\n",
    "filterwarnings('ignore')\n"
   ]
  },
  {
   "cell_type": "markdown",
   "metadata": {},
   "source": [
    "### Load Dataset"
   ]
  },
  {
   "cell_type": "code",
   "execution_count": 199,
   "metadata": {},
   "outputs": [],
   "source": [
    "df_flight=pd.read_excel(\"flight_price.xlsx\")  # use pd.read_csv to read csv file and store as car_df variable"
   ]
  },
  {
   "cell_type": "code",
   "execution_count": 200,
   "metadata": {},
   "outputs": [
    {
     "data": {
      "text/html": [
       "<div>\n",
       "<style scoped>\n",
       "    .dataframe tbody tr th:only-of-type {\n",
       "        vertical-align: middle;\n",
       "    }\n",
       "\n",
       "    .dataframe tbody tr th {\n",
       "        vertical-align: top;\n",
       "    }\n",
       "\n",
       "    .dataframe thead th {\n",
       "        text-align: right;\n",
       "    }\n",
       "</style>\n",
       "<table border=\"1\" class=\"dataframe\">\n",
       "  <thead>\n",
       "    <tr style=\"text-align: right;\">\n",
       "      <th></th>\n",
       "      <th>Airline</th>\n",
       "      <th>Date_of_Journey</th>\n",
       "      <th>Source</th>\n",
       "      <th>Destination</th>\n",
       "      <th>Route</th>\n",
       "      <th>Dep_Time</th>\n",
       "      <th>Arrival_Time</th>\n",
       "      <th>Duration</th>\n",
       "      <th>Total_Stops</th>\n",
       "      <th>Additional_Info</th>\n",
       "      <th>Price</th>\n",
       "    </tr>\n",
       "  </thead>\n",
       "  <tbody>\n",
       "    <tr>\n",
       "      <th>0</th>\n",
       "      <td>IndiGo</td>\n",
       "      <td>24/03/2019</td>\n",
       "      <td>Banglore</td>\n",
       "      <td>New Delhi</td>\n",
       "      <td>BLR → DEL</td>\n",
       "      <td>22:20</td>\n",
       "      <td>01:10 22 Mar</td>\n",
       "      <td>2h 50m</td>\n",
       "      <td>non-stop</td>\n",
       "      <td>No info</td>\n",
       "      <td>3897</td>\n",
       "    </tr>\n",
       "    <tr>\n",
       "      <th>1</th>\n",
       "      <td>Air India</td>\n",
       "      <td>1/05/2019</td>\n",
       "      <td>Kolkata</td>\n",
       "      <td>Banglore</td>\n",
       "      <td>CCU → IXR → BBI → BLR</td>\n",
       "      <td>05:50</td>\n",
       "      <td>13:15</td>\n",
       "      <td>7h 25m</td>\n",
       "      <td>2 stops</td>\n",
       "      <td>No info</td>\n",
       "      <td>7662</td>\n",
       "    </tr>\n",
       "    <tr>\n",
       "      <th>2</th>\n",
       "      <td>Jet Airways</td>\n",
       "      <td>9/06/2019</td>\n",
       "      <td>Delhi</td>\n",
       "      <td>Cochin</td>\n",
       "      <td>DEL → LKO → BOM → COK</td>\n",
       "      <td>09:25</td>\n",
       "      <td>04:25 10 Jun</td>\n",
       "      <td>19h</td>\n",
       "      <td>2 stops</td>\n",
       "      <td>No info</td>\n",
       "      <td>13882</td>\n",
       "    </tr>\n",
       "    <tr>\n",
       "      <th>3</th>\n",
       "      <td>IndiGo</td>\n",
       "      <td>12/05/2019</td>\n",
       "      <td>Kolkata</td>\n",
       "      <td>Banglore</td>\n",
       "      <td>CCU → NAG → BLR</td>\n",
       "      <td>18:05</td>\n",
       "      <td>23:30</td>\n",
       "      <td>5h 25m</td>\n",
       "      <td>1 stop</td>\n",
       "      <td>No info</td>\n",
       "      <td>6218</td>\n",
       "    </tr>\n",
       "    <tr>\n",
       "      <th>4</th>\n",
       "      <td>IndiGo</td>\n",
       "      <td>01/03/2019</td>\n",
       "      <td>Banglore</td>\n",
       "      <td>New Delhi</td>\n",
       "      <td>BLR → NAG → DEL</td>\n",
       "      <td>16:50</td>\n",
       "      <td>21:35</td>\n",
       "      <td>4h 45m</td>\n",
       "      <td>1 stop</td>\n",
       "      <td>No info</td>\n",
       "      <td>13302</td>\n",
       "    </tr>\n",
       "  </tbody>\n",
       "</table>\n",
       "</div>"
      ],
      "text/plain": [
       "       Airline Date_of_Journey    Source Destination                  Route  \\\n",
       "0       IndiGo      24/03/2019  Banglore   New Delhi              BLR → DEL   \n",
       "1    Air India       1/05/2019   Kolkata    Banglore  CCU → IXR → BBI → BLR   \n",
       "2  Jet Airways       9/06/2019     Delhi      Cochin  DEL → LKO → BOM → COK   \n",
       "3       IndiGo      12/05/2019   Kolkata    Banglore        CCU → NAG → BLR   \n",
       "4       IndiGo      01/03/2019  Banglore   New Delhi        BLR → NAG → DEL   \n",
       "\n",
       "  Dep_Time  Arrival_Time Duration Total_Stops Additional_Info  Price  \n",
       "0    22:20  01:10 22 Mar   2h 50m    non-stop         No info   3897  \n",
       "1    05:50         13:15   7h 25m     2 stops         No info   7662  \n",
       "2    09:25  04:25 10 Jun      19h     2 stops         No info  13882  \n",
       "3    18:05         23:30   5h 25m      1 stop         No info   6218  \n",
       "4    16:50         21:35   4h 45m      1 stop         No info  13302  "
      ]
     },
     "execution_count": 200,
     "metadata": {},
     "output_type": "execute_result"
    }
   ],
   "source": [
    "df_flight.head()"
   ]
  },
  {
   "cell_type": "code",
   "execution_count": 201,
   "metadata": {},
   "outputs": [
    {
     "name": "stdout",
     "output_type": "stream",
     "text": [
      "Number of rows in flight dataset is : 10683\n",
      "Number of columns in flight dataset is : 11\n"
     ]
    }
   ],
   "source": [
    "# Number of rows and columns in dataframe\n",
    "num_rows, num_cols = df_flight.shape\n",
    "print(f'Number of rows in flight dataset is : {num_rows}')\n",
    "print(f'Number of columns in flight dataset is : {num_cols}')"
   ]
  },
  {
   "cell_type": "code",
   "execution_count": 202,
   "metadata": {},
   "outputs": [],
   "source": [
    "# function to plot QQ plots along with Histograms to check normality\n",
    "import scipy.stats as stat\n",
    "import pylab\n",
    "import seaborn as sns\n",
    "import matplotlib.pyplot as plt\n",
    "def qq_plot(df, feature):\n",
    "    plt.figure(figsize=(15,6))\n",
    "    plt.subplot(1,2,1)\n",
    "    sns.histplot(df[feature],kde=True)\n",
    "    plt.title(f'Histogram Plot for : {feature}')\n",
    "    plt.subplot(1,2,2)\n",
    "    stat.probplot(df[feature],dist='norm',plot=pylab)\n",
    "    plt.title(f'Q-Q Plot for : {feature}')\n",
    "    plt.show()"
   ]
  },
  {
   "cell_type": "code",
   "execution_count": 203,
   "metadata": {},
   "outputs": [
    {
     "data": {
      "image/png": "[encoded data removed]",
      "text/plain": [
       "<Figure size 1080x432 with 2 Axes>"
      ]
     },
     "metadata": {
      "needs_background": "light"
     },
     "output_type": "display_data"
    }
   ],
   "source": [
    "qq_plot(df_flight,\"Price\")"
   ]
  },
  {
   "cell_type": "markdown",
   "metadata": {},
   "source": [
    "## Histogram shows that Price is Right (Positively) Skewed"
   ]
  },
  {
   "cell_type": "code",
   "execution_count": 204,
   "metadata": {},
   "outputs": [
    {
     "name": "stdout",
     "output_type": "stream",
     "text": [
      "Maximum Price of Flight is : 79512\n",
      "Minimum Price of Flight is : 1759\n",
      "Range of price is : 77753\n"
     ]
    }
   ],
   "source": [
    "# Calculate max , min and range of price in dataset\n",
    "max_price = df_flight['Price'].max()\n",
    "min_price = df_flight['Price'].min()\n",
    "range_price = max_price - min_price\n",
    "\n",
    "# Print Max , Min and Range values\n",
    "print(f'Maximum Price of Flight is : {max_price}')\n",
    "print(f'Minimum Price of Flight is : {min_price}')\n",
    "print(f'Range of price is : {range_price}')"
   ]
  },
  {
   "cell_type": "code",
   "execution_count": 205,
   "metadata": {},
   "outputs": [
    {
     "data": {
      "text/html": [
       "<div>\n",
       "<style scoped>\n",
       "    .dataframe tbody tr th:only-of-type {\n",
       "        vertical-align: middle;\n",
       "    }\n",
       "\n",
       "    .dataframe tbody tr th {\n",
       "        vertical-align: top;\n",
       "    }\n",
       "\n",
       "    .dataframe thead th {\n",
       "        text-align: right;\n",
       "    }\n",
       "</style>\n",
       "<table border=\"1\" class=\"dataframe\">\n",
       "  <thead>\n",
       "    <tr style=\"text-align: right;\">\n",
       "      <th></th>\n",
       "      <th>Price</th>\n",
       "    </tr>\n",
       "  </thead>\n",
       "  <tbody>\n",
       "    <tr>\n",
       "      <th>count</th>\n",
       "      <td>10683.000000</td>\n",
       "    </tr>\n",
       "    <tr>\n",
       "      <th>mean</th>\n",
       "      <td>9087.064121</td>\n",
       "    </tr>\n",
       "    <tr>\n",
       "      <th>std</th>\n",
       "      <td>4611.359167</td>\n",
       "    </tr>\n",
       "    <tr>\n",
       "      <th>min</th>\n",
       "      <td>1759.000000</td>\n",
       "    </tr>\n",
       "    <tr>\n",
       "      <th>25%</th>\n",
       "      <td>5277.000000</td>\n",
       "    </tr>\n",
       "    <tr>\n",
       "      <th>50%</th>\n",
       "      <td>8372.000000</td>\n",
       "    </tr>\n",
       "    <tr>\n",
       "      <th>75%</th>\n",
       "      <td>12373.000000</td>\n",
       "    </tr>\n",
       "    <tr>\n",
       "      <th>max</th>\n",
       "      <td>79512.000000</td>\n",
       "    </tr>\n",
       "  </tbody>\n",
       "</table>\n",
       "</div>"
      ],
      "text/plain": [
       "              Price\n",
       "count  10683.000000\n",
       "mean    9087.064121\n",
       "std     4611.359167\n",
       "min     1759.000000\n",
       "25%     5277.000000\n",
       "50%     8372.000000\n",
       "75%    12373.000000\n",
       "max    79512.000000"
      ]
     },
     "execution_count": 205,
     "metadata": {},
     "output_type": "execute_result"
    }
   ],
   "source": [
    "df_flight[['Price']].describe()"
   ]
  },
  {
   "cell_type": "markdown",
   "metadata": {},
   "source": [
    "## Check the price of flights vary by airline"
   ]
  },
  {
   "cell_type": "code",
   "execution_count": 206,
   "metadata": {},
   "outputs": [
    {
     "data": {
      "text/html": [
       "<div>\n",
       "<style scoped>\n",
       "    .dataframe tbody tr th:only-of-type {\n",
       "        vertical-align: middle;\n",
       "    }\n",
       "\n",
       "    .dataframe tbody tr th {\n",
       "        vertical-align: top;\n",
       "    }\n",
       "\n",
       "    .dataframe thead tr th {\n",
       "        text-align: left;\n",
       "    }\n",
       "\n",
       "    .dataframe thead tr:last-of-type th {\n",
       "        text-align: right;\n",
       "    }\n",
       "</style>\n",
       "<table border=\"1\" class=\"dataframe\">\n",
       "  <thead>\n",
       "    <tr>\n",
       "      <th></th>\n",
       "      <th colspan=\"8\" halign=\"left\">Price</th>\n",
       "    </tr>\n",
       "    <tr>\n",
       "      <th></th>\n",
       "      <th>count</th>\n",
       "      <th>mean</th>\n",
       "      <th>std</th>\n",
       "      <th>min</th>\n",
       "      <th>25%</th>\n",
       "      <th>50%</th>\n",
       "      <th>75%</th>\n",
       "      <th>max</th>\n",
       "    </tr>\n",
       "    <tr>\n",
       "      <th>Airline</th>\n",
       "      <th></th>\n",
       "      <th></th>\n",
       "      <th></th>\n",
       "      <th></th>\n",
       "      <th></th>\n",
       "      <th></th>\n",
       "      <th></th>\n",
       "      <th></th>\n",
       "    </tr>\n",
       "  </thead>\n",
       "  <tbody>\n",
       "    <tr>\n",
       "      <th>Air Asia</th>\n",
       "      <td>319.0</td>\n",
       "      <td>5590.260188</td>\n",
       "      <td>2027.362290</td>\n",
       "      <td>3383.0</td>\n",
       "      <td>4282.0</td>\n",
       "      <td>5162.0</td>\n",
       "      <td>6451.00</td>\n",
       "      <td>13774.0</td>\n",
       "    </tr>\n",
       "    <tr>\n",
       "      <th>Air India</th>\n",
       "      <td>1752.0</td>\n",
       "      <td>9611.210616</td>\n",
       "      <td>3900.952942</td>\n",
       "      <td>2050.0</td>\n",
       "      <td>6896.0</td>\n",
       "      <td>9443.0</td>\n",
       "      <td>12219.00</td>\n",
       "      <td>31945.0</td>\n",
       "    </tr>\n",
       "    <tr>\n",
       "      <th>GoAir</th>\n",
       "      <td>194.0</td>\n",
       "      <td>5861.056701</td>\n",
       "      <td>2703.585767</td>\n",
       "      <td>3398.0</td>\n",
       "      <td>3898.0</td>\n",
       "      <td>5135.0</td>\n",
       "      <td>6811.25</td>\n",
       "      <td>22794.0</td>\n",
       "    </tr>\n",
       "    <tr>\n",
       "      <th>IndiGo</th>\n",
       "      <td>2053.0</td>\n",
       "      <td>5673.682903</td>\n",
       "      <td>2264.142168</td>\n",
       "      <td>2227.0</td>\n",
       "      <td>4226.0</td>\n",
       "      <td>5000.0</td>\n",
       "      <td>6494.00</td>\n",
       "      <td>22153.0</td>\n",
       "    </tr>\n",
       "    <tr>\n",
       "      <th>Jet Airways</th>\n",
       "      <td>3849.0</td>\n",
       "      <td>11643.923357</td>\n",
       "      <td>4258.940578</td>\n",
       "      <td>1840.0</td>\n",
       "      <td>9134.0</td>\n",
       "      <td>11467.0</td>\n",
       "      <td>14151.00</td>\n",
       "      <td>54826.0</td>\n",
       "    </tr>\n",
       "    <tr>\n",
       "      <th>Jet Airways Business</th>\n",
       "      <td>6.0</td>\n",
       "      <td>58358.666667</td>\n",
       "      <td>11667.596748</td>\n",
       "      <td>46490.0</td>\n",
       "      <td>52243.0</td>\n",
       "      <td>54747.0</td>\n",
       "      <td>61122.50</td>\n",
       "      <td>79512.0</td>\n",
       "    </tr>\n",
       "    <tr>\n",
       "      <th>Multiple carriers</th>\n",
       "      <td>1196.0</td>\n",
       "      <td>10902.678094</td>\n",
       "      <td>3721.234997</td>\n",
       "      <td>5797.0</td>\n",
       "      <td>7723.0</td>\n",
       "      <td>10197.0</td>\n",
       "      <td>13587.00</td>\n",
       "      <td>36983.0</td>\n",
       "    </tr>\n",
       "    <tr>\n",
       "      <th>Multiple carriers Premium economy</th>\n",
       "      <td>13.0</td>\n",
       "      <td>11418.846154</td>\n",
       "      <td>1717.153936</td>\n",
       "      <td>9845.0</td>\n",
       "      <td>10161.0</td>\n",
       "      <td>11269.0</td>\n",
       "      <td>11269.00</td>\n",
       "      <td>14629.0</td>\n",
       "    </tr>\n",
       "    <tr>\n",
       "      <th>SpiceJet</th>\n",
       "      <td>818.0</td>\n",
       "      <td>4338.284841</td>\n",
       "      <td>1849.922514</td>\n",
       "      <td>1759.0</td>\n",
       "      <td>3574.5</td>\n",
       "      <td>3873.0</td>\n",
       "      <td>4760.00</td>\n",
       "      <td>23267.0</td>\n",
       "    </tr>\n",
       "    <tr>\n",
       "      <th>Trujet</th>\n",
       "      <td>1.0</td>\n",
       "      <td>4140.000000</td>\n",
       "      <td>NaN</td>\n",
       "      <td>4140.0</td>\n",
       "      <td>4140.0</td>\n",
       "      <td>4140.0</td>\n",
       "      <td>4140.00</td>\n",
       "      <td>4140.0</td>\n",
       "    </tr>\n",
       "    <tr>\n",
       "      <th>Vistara</th>\n",
       "      <td>479.0</td>\n",
       "      <td>7796.348643</td>\n",
       "      <td>2914.298578</td>\n",
       "      <td>3687.0</td>\n",
       "      <td>5403.0</td>\n",
       "      <td>7980.0</td>\n",
       "      <td>9345.00</td>\n",
       "      <td>21730.0</td>\n",
       "    </tr>\n",
       "    <tr>\n",
       "      <th>Vistara Premium economy</th>\n",
       "      <td>3.0</td>\n",
       "      <td>8962.333333</td>\n",
       "      <td>2915.405518</td>\n",
       "      <td>5969.0</td>\n",
       "      <td>7547.0</td>\n",
       "      <td>9125.0</td>\n",
       "      <td>10459.00</td>\n",
       "      <td>11793.0</td>\n",
       "    </tr>\n",
       "  </tbody>\n",
       "</table>\n",
       "</div>"
      ],
      "text/plain": [
       "                                    Price                              \\\n",
       "                                    count          mean           std   \n",
       "Airline                                                                 \n",
       "Air Asia                            319.0   5590.260188   2027.362290   \n",
       "Air India                          1752.0   9611.210616   3900.952942   \n",
       "GoAir                               194.0   5861.056701   2703.585767   \n",
       "IndiGo                             2053.0   5673.682903   2264.142168   \n",
       "Jet Airways                        3849.0  11643.923357   4258.940578   \n",
       "Jet Airways Business                  6.0  58358.666667  11667.596748   \n",
       "Multiple carriers                  1196.0  10902.678094   3721.234997   \n",
       "Multiple carriers Premium economy    13.0  11418.846154   1717.153936   \n",
       "SpiceJet                            818.0   4338.284841   1849.922514   \n",
       "Trujet                                1.0   4140.000000           NaN   \n",
       "Vistara                             479.0   7796.348643   2914.298578   \n",
       "Vistara Premium economy               3.0   8962.333333   2915.405518   \n",
       "\n",
       "                                                                        \\\n",
       "                                       min      25%      50%       75%   \n",
       "Airline                                                                  \n",
       "Air Asia                            3383.0   4282.0   5162.0   6451.00   \n",
       "Air India                           2050.0   6896.0   9443.0  12219.00   \n",
       "GoAir                               3398.0   3898.0   5135.0   6811.25   \n",
       "IndiGo                              2227.0   4226.0   5000.0   6494.00   \n",
       "Jet Airways                         1840.0   9134.0  11467.0  14151.00   \n",
       "Jet Airways Business               46490.0  52243.0  54747.0  61122.50   \n",
       "Multiple carriers                   5797.0   7723.0  10197.0  13587.00   \n",
       "Multiple carriers Premium economy   9845.0  10161.0  11269.0  11269.00   \n",
       "SpiceJet                            1759.0   3574.5   3873.0   4760.00   \n",
       "Trujet                              4140.0   4140.0   4140.0   4140.00   \n",
       "Vistara                             3687.0   5403.0   7980.0   9345.00   \n",
       "Vistara Premium economy             5969.0   7547.0   9125.0  10459.00   \n",
       "\n",
       "                                            \n",
       "                                       max  \n",
       "Airline                                     \n",
       "Air Asia                           13774.0  \n",
       "Air India                          31945.0  \n",
       "GoAir                              22794.0  \n",
       "IndiGo                             22153.0  \n",
       "Jet Airways                        54826.0  \n",
       "Jet Airways Business               79512.0  \n",
       "Multiple carriers                  36983.0  \n",
       "Multiple carriers Premium economy  14629.0  \n",
       "SpiceJet                           23267.0  \n",
       "Trujet                              4140.0  \n",
       "Vistara                            21730.0  \n",
       "Vistara Premium economy            11793.0  "
      ]
     },
     "execution_count": 206,
     "metadata": {},
     "output_type": "execute_result"
    }
   ],
   "source": [
    "df_flight.groupby(by='Airline').describe()"
   ]
  },
  {
   "cell_type": "markdown",
   "metadata": {},
   "source": [
    "## Compare the prices of different airlines"
   ]
  },
  {
   "cell_type": "code",
   "execution_count": 207,
   "metadata": {},
   "outputs": [
    {
     "data": {
      "image/png": "[encoded data removed]",
      "text/plain": [
       "<Figure size 720x720 with 1 Axes>"
      ]
     },
     "metadata": {
      "needs_background": "light"
     },
     "output_type": "display_data"
    }
   ],
   "source": [
    "plt.figure(figsize=(10,10))\n",
    "sns.boxplot(data=df_flight, x='Price', y='Airline')\n",
    "plt.title('Boxplot of Airlines vs Price');"
   ]
  },
  {
   "cell_type": "markdown",
   "metadata": {},
   "source": [
    "## Clearly show flight price values present outlier so check outlier price column"
   ]
  },
  {
   "cell_type": "code",
   "execution_count": 208,
   "metadata": {},
   "outputs": [
    {
     "data": {
      "image/png": "[encoded data removed]",
      "text/plain": [
       "<Figure size 720x432 with 1 Axes>"
      ]
     },
     "metadata": {
      "needs_background": "light"
     },
     "output_type": "display_data"
    }
   ],
   "source": [
    "\n",
    "plt.figure(figsize=(10,6))\n",
    "sns.boxplot(data=df_flight,x='Price');"
   ]
  },
  {
   "cell_type": "code",
   "execution_count": 209,
   "metadata": {},
   "outputs": [
    {
     "name": "stdout",
     "output_type": "stream",
     "text": [
      "Q1: 5277.0\n",
      "Q3: 12373.0\n",
      "IQR: 7096.0\n",
      "Lower Box : -5367.0\n",
      "Upper Box : 23017.0\n",
      "Max Price : 79512\n",
      "Min Price : 1759\n"
     ]
    }
   ],
   "source": [
    "# Calculate the IQR\n",
    "q1, q3 = np.percentile(df_flight['Price'], [25, 75])\n",
    "iqr_value = iqr(df_flight['Price'])\n",
    "\n",
    "print(\"Q1:\", q1)\n",
    "print(\"Q3:\", q3)\n",
    "print(\"IQR:\", iqr_value)\n",
    "print(\"Lower Box :\",q1-1.5*iqr_value)\n",
    "print(\"Upper Box :\",q3 + 1.5*iqr_value)\n",
    "print(\"Max Price :\",df_flight['Price'].max())\n",
    "print(\"Min Price :\",df_flight['Price'].min())"
   ]
  },
  {
   "cell_type": "code",
   "execution_count": 210,
   "metadata": {},
   "outputs": [
    {
     "data": {
      "text/html": [
       "<div>\n",
       "<style scoped>\n",
       "    .dataframe tbody tr th:only-of-type {\n",
       "        vertical-align: middle;\n",
       "    }\n",
       "\n",
       "    .dataframe tbody tr th {\n",
       "        vertical-align: top;\n",
       "    }\n",
       "\n",
       "    .dataframe thead th {\n",
       "        text-align: right;\n",
       "    }\n",
       "</style>\n",
       "<table border=\"1\" class=\"dataframe\">\n",
       "  <thead>\n",
       "    <tr style=\"text-align: right;\">\n",
       "      <th></th>\n",
       "      <th>Airline</th>\n",
       "      <th>Date_of_Journey</th>\n",
       "      <th>Source</th>\n",
       "      <th>Destination</th>\n",
       "      <th>Route</th>\n",
       "      <th>Dep_Time</th>\n",
       "      <th>Arrival_Time</th>\n",
       "      <th>Duration</th>\n",
       "      <th>Total_Stops</th>\n",
       "      <th>Additional_Info</th>\n",
       "      <th>Price</th>\n",
       "    </tr>\n",
       "  </thead>\n",
       "  <tbody>\n",
       "    <tr>\n",
       "      <th>123</th>\n",
       "      <td>Air India</td>\n",
       "      <td>1/03/2019</td>\n",
       "      <td>Delhi</td>\n",
       "      <td>Cochin</td>\n",
       "      <td>DEL → BOM → COK</td>\n",
       "      <td>23:00</td>\n",
       "      <td>19:15 02 Mar</td>\n",
       "      <td>20h 15m</td>\n",
       "      <td>1 stop</td>\n",
       "      <td>No info</td>\n",
       "      <td>27430</td>\n",
       "    </tr>\n",
       "    <tr>\n",
       "      <th>396</th>\n",
       "      <td>Multiple carriers</td>\n",
       "      <td>1/03/2019</td>\n",
       "      <td>Delhi</td>\n",
       "      <td>Cochin</td>\n",
       "      <td>DEL → BOM → COK</td>\n",
       "      <td>12:50</td>\n",
       "      <td>19:15</td>\n",
       "      <td>6h 25m</td>\n",
       "      <td>1 stop</td>\n",
       "      <td>No info</td>\n",
       "      <td>36983</td>\n",
       "    </tr>\n",
       "    <tr>\n",
       "      <th>486</th>\n",
       "      <td>Jet Airways</td>\n",
       "      <td>01/03/2019</td>\n",
       "      <td>Banglore</td>\n",
       "      <td>New Delhi</td>\n",
       "      <td>BLR → BOM → DEL</td>\n",
       "      <td>08:55</td>\n",
       "      <td>15:15</td>\n",
       "      <td>6h 20m</td>\n",
       "      <td>1 stop</td>\n",
       "      <td>No info</td>\n",
       "      <td>26890</td>\n",
       "    </tr>\n",
       "    <tr>\n",
       "      <th>510</th>\n",
       "      <td>Jet Airways</td>\n",
       "      <td>01/03/2019</td>\n",
       "      <td>Banglore</td>\n",
       "      <td>New Delhi</td>\n",
       "      <td>BLR → BOM → DEL</td>\n",
       "      <td>07:00</td>\n",
       "      <td>12:25</td>\n",
       "      <td>5h 25m</td>\n",
       "      <td>1 stop</td>\n",
       "      <td>No info</td>\n",
       "      <td>26890</td>\n",
       "    </tr>\n",
       "    <tr>\n",
       "      <th>597</th>\n",
       "      <td>Air India</td>\n",
       "      <td>6/03/2019</td>\n",
       "      <td>Mumbai</td>\n",
       "      <td>Hyderabad</td>\n",
       "      <td>BOM → JDH → DEL → HYD</td>\n",
       "      <td>09:40</td>\n",
       "      <td>15:15 07 Mar</td>\n",
       "      <td>29h 35m</td>\n",
       "      <td>2 stops</td>\n",
       "      <td>No info</td>\n",
       "      <td>25139</td>\n",
       "    </tr>\n",
       "    <tr>\n",
       "      <th>...</th>\n",
       "      <td>...</td>\n",
       "      <td>...</td>\n",
       "      <td>...</td>\n",
       "      <td>...</td>\n",
       "      <td>...</td>\n",
       "      <td>...</td>\n",
       "      <td>...</td>\n",
       "      <td>...</td>\n",
       "      <td>...</td>\n",
       "      <td>...</td>\n",
       "      <td>...</td>\n",
       "    </tr>\n",
       "    <tr>\n",
       "      <th>10353</th>\n",
       "      <td>Jet Airways</td>\n",
       "      <td>6/03/2019</td>\n",
       "      <td>Mumbai</td>\n",
       "      <td>Hyderabad</td>\n",
       "      <td>BOM → BDQ → DEL → HYD</td>\n",
       "      <td>19:50</td>\n",
       "      <td>16:50 07 Mar</td>\n",
       "      <td>21h</td>\n",
       "      <td>2 stops</td>\n",
       "      <td>No info</td>\n",
       "      <td>24210</td>\n",
       "    </tr>\n",
       "    <tr>\n",
       "      <th>10364</th>\n",
       "      <td>Jet Airways Business</td>\n",
       "      <td>01/03/2019</td>\n",
       "      <td>Banglore</td>\n",
       "      <td>New Delhi</td>\n",
       "      <td>BLR → MAA → DEL</td>\n",
       "      <td>09:45</td>\n",
       "      <td>14:25</td>\n",
       "      <td>4h 40m</td>\n",
       "      <td>1 stop</td>\n",
       "      <td>Business class</td>\n",
       "      <td>57209</td>\n",
       "    </tr>\n",
       "    <tr>\n",
       "      <th>10383</th>\n",
       "      <td>Jet Airways</td>\n",
       "      <td>01/03/2019</td>\n",
       "      <td>Banglore</td>\n",
       "      <td>New Delhi</td>\n",
       "      <td>BLR → BOM → DEL</td>\n",
       "      <td>07:00</td>\n",
       "      <td>05:05 02 Mar</td>\n",
       "      <td>22h 5m</td>\n",
       "      <td>1 stop</td>\n",
       "      <td>No info</td>\n",
       "      <td>26890</td>\n",
       "    </tr>\n",
       "    <tr>\n",
       "      <th>10439</th>\n",
       "      <td>Jet Airways</td>\n",
       "      <td>01/03/2019</td>\n",
       "      <td>Banglore</td>\n",
       "      <td>New Delhi</td>\n",
       "      <td>BLR → BOM → DEL</td>\n",
       "      <td>18:40</td>\n",
       "      <td>09:00 02 Mar</td>\n",
       "      <td>14h 20m</td>\n",
       "      <td>1 stop</td>\n",
       "      <td>No info</td>\n",
       "      <td>31825</td>\n",
       "    </tr>\n",
       "    <tr>\n",
       "      <th>10511</th>\n",
       "      <td>Air India</td>\n",
       "      <td>01/03/2019</td>\n",
       "      <td>Banglore</td>\n",
       "      <td>New Delhi</td>\n",
       "      <td>BLR → BOM → BHO → DEL</td>\n",
       "      <td>06:45</td>\n",
       "      <td>09:25 02 Mar</td>\n",
       "      <td>26h 40m</td>\n",
       "      <td>2 stops</td>\n",
       "      <td>2 Long layover</td>\n",
       "      <td>26480</td>\n",
       "    </tr>\n",
       "  </tbody>\n",
       "</table>\n",
       "<p>94 rows × 11 columns</p>\n",
       "</div>"
      ],
      "text/plain": [
       "                    Airline Date_of_Journey    Source Destination  \\\n",
       "123               Air India       1/03/2019     Delhi      Cochin   \n",
       "396       Multiple carriers       1/03/2019     Delhi      Cochin   \n",
       "486             Jet Airways      01/03/2019  Banglore   New Delhi   \n",
       "510             Jet Airways      01/03/2019  Banglore   New Delhi   \n",
       "597               Air India       6/03/2019    Mumbai   Hyderabad   \n",
       "...                     ...             ...       ...         ...   \n",
       "10353           Jet Airways       6/03/2019    Mumbai   Hyderabad   \n",
       "10364  Jet Airways Business      01/03/2019  Banglore   New Delhi   \n",
       "10383           Jet Airways      01/03/2019  Banglore   New Delhi   \n",
       "10439           Jet Airways      01/03/2019  Banglore   New Delhi   \n",
       "10511             Air India      01/03/2019  Banglore   New Delhi   \n",
       "\n",
       "                       Route Dep_Time  Arrival_Time Duration Total_Stops  \\\n",
       "123          DEL → BOM → COK    23:00  19:15 02 Mar  20h 15m      1 stop   \n",
       "396          DEL → BOM → COK    12:50         19:15   6h 25m      1 stop   \n",
       "486          BLR → BOM → DEL    08:55         15:15   6h 20m      1 stop   \n",
       "510          BLR → BOM → DEL    07:00         12:25   5h 25m      1 stop   \n",
       "597    BOM → JDH → DEL → HYD    09:40  15:15 07 Mar  29h 35m     2 stops   \n",
       "...                      ...      ...           ...      ...         ...   \n",
       "10353  BOM → BDQ → DEL → HYD    19:50  16:50 07 Mar      21h     2 stops   \n",
       "10364        BLR → MAA → DEL    09:45         14:25   4h 40m      1 stop   \n",
       "10383        BLR → BOM → DEL    07:00  05:05 02 Mar   22h 5m      1 stop   \n",
       "10439        BLR → BOM → DEL    18:40  09:00 02 Mar  14h 20m      1 stop   \n",
       "10511  BLR → BOM → BHO → DEL    06:45  09:25 02 Mar  26h 40m     2 stops   \n",
       "\n",
       "      Additional_Info  Price  \n",
       "123           No info  27430  \n",
       "396           No info  36983  \n",
       "486           No info  26890  \n",
       "510           No info  26890  \n",
       "597           No info  25139  \n",
       "...               ...    ...  \n",
       "10353         No info  24210  \n",
       "10364  Business class  57209  \n",
       "10383         No info  26890  \n",
       "10439         No info  31825  \n",
       "10511  2 Long layover  26480  \n",
       "\n",
       "[94 rows x 11 columns]"
      ]
     },
     "execution_count": 210,
     "metadata": {},
     "output_type": "execute_result"
    }
   ],
   "source": [
    "df_flight[df_flight.Price > q3 + 1.5*iqr_value]"
   ]
  },
  {
   "cell_type": "code",
   "execution_count": 211,
   "metadata": {},
   "outputs": [],
   "source": [
    "drop=df_flight[df_flight.Price > q3 + 1.5*iqr_value].index"
   ]
  },
  {
   "cell_type": "code",
   "execution_count": 212,
   "metadata": {},
   "outputs": [],
   "source": [
    "df_flight.drop(drop,inplace=True,axis=0) #  Drop th outerliers"
   ]
  },
  {
   "cell_type": "markdown",
   "metadata": {},
   "source": [
    "## Create new column date_of_journey to datetime dtype."
   ]
  },
  {
   "cell_type": "code",
   "execution_count": 213,
   "metadata": {},
   "outputs": [],
   "source": [
    "df_flight['Date_of_Journey']=pd.to_datetime(df_flight['Date_of_Journey'])"
   ]
  },
  {
   "cell_type": "markdown",
   "metadata": {},
   "source": [
    "## Create more columns of date,month,year,day "
   ]
  },
  {
   "cell_type": "code",
   "execution_count": 214,
   "metadata": {},
   "outputs": [],
   "source": [
    "df_flight['Date'] = df_flight['Date_of_Journey'].dt.day\n",
    "df_flight['Month'] = df_flight['Date_of_Journey'].dt.month\n",
    "df_flight['Year'] = df_flight['Date_of_Journey'].dt.year\n",
    "df_flight['Day'] = df_flight['Date_of_Journey'].dt.day_name()"
   ]
  },
  {
   "cell_type": "markdown",
   "metadata": {},
   "source": [
    "Find average price value base on month wise,day wise,Destination wise, Starting day wise"
   ]
  },
  {
   "cell_type": "code",
   "execution_count": 215,
   "metadata": {},
   "outputs": [
    {
     "data": {
      "text/plain": [
       "Month\n",
       "4     5230.860849\n",
       "3     8311.850522\n",
       "1     9053.510490\n",
       "12    9080.251309\n",
       "6     9173.877519\n",
       "5     9361.077628\n",
       "9     9505.993585\n",
       "Name: Price, dtype: float64"
      ]
     },
     "execution_count": 215,
     "metadata": {},
     "output_type": "execute_result"
    }
   ],
   "source": [
    "df_flight.groupby(by='Month').mean()['Price'].sort_values()"
   ]
  },
  {
   "cell_type": "code",
   "execution_count": 216,
   "metadata": {},
   "outputs": [
    {
     "data": {
      "image/png": "[encoded data removed]",
      "text/plain": [
       "<Figure size 432x288 with 1 Axes>"
      ]
     },
     "metadata": {
      "needs_background": "light"
     },
     "output_type": "display_data"
    }
   ],
   "source": [
    "df_flight.groupby(by='Month').mean()['Price'].sort_values().plot(kind='bar');"
   ]
  },
  {
   "cell_type": "code",
   "execution_count": 217,
   "metadata": {},
   "outputs": [
    {
     "data": {
      "text/plain": [
       "Day\n",
       "Wednesday    7996.290807\n",
       "Friday       8535.776111\n",
       "Saturday     8894.375727\n",
       "Tuesday      8903.861201\n",
       "Thursday     9120.701129\n",
       "Sunday       9432.373106\n",
       "Monday       9591.943396\n",
       "Name: Price, dtype: float64"
      ]
     },
     "execution_count": 217,
     "metadata": {},
     "output_type": "execute_result"
    }
   ],
   "source": [
    "df_flight.groupby(by='Day').mean()['Price'].sort_values()"
   ]
  },
  {
   "cell_type": "code",
   "execution_count": 218,
   "metadata": {},
   "outputs": [
    {
     "data": {
      "image/png": "[encoded data removed]",
      "text/plain": [
       "<Figure size 432x288 with 1 Axes>"
      ]
     },
     "metadata": {
      "needs_background": "light"
     },
     "output_type": "display_data"
    }
   ],
   "source": [
    "df_flight.groupby(by='Day').mean()['Price'].sort_values().plot(kind='bar');"
   ]
  },
  {
   "cell_type": "code",
   "execution_count": 219,
   "metadata": {},
   "outputs": [
    {
     "data": {
      "text/plain": [
       "Destination\n",
       "Kolkata       4789.892388\n",
       "Hyderabad     4921.650289\n",
       "Delhi         5143.918577\n",
       "Banglore      9150.449826\n",
       "New Delhi    10343.231395\n",
       "Cochin       10467.282017\n",
       "Name: Price, dtype: float64"
      ]
     },
     "execution_count": 219,
     "metadata": {},
     "output_type": "execute_result"
    }
   ],
   "source": [
    "df_flight.groupby(by='Destination').mean()['Price'].sort_values()"
   ]
  },
  {
   "cell_type": "code",
   "execution_count": 220,
   "metadata": {},
   "outputs": [
    {
     "data": {
      "image/png": "[encoded data removed]",
      "text/plain": [
       "<Figure size 432x288 with 1 Axes>"
      ]
     },
     "metadata": {
      "needs_background": "light"
     },
     "output_type": "display_data"
    }
   ],
   "source": [
    "df_flight.groupby(by='Destination').mean()['Price'].sort_values().plot(kind='bar');"
   ]
  },
  {
   "cell_type": "markdown",
   "metadata": {},
   "source": [
    "## Insights :\n",
    "### 1.Cheapest Price is in Month of April with average price of 5230.86\n",
    "### 2.Cheapest Prices are usually with flights departing on Wednesday at average price of 7996.29\n",
    "### 3.Cheapest Flight destination is Kolkata with average price of 4789.89\n",
    "### 4.Cheapest Flights are starting from city Chennai with average price of 4789.89"
   ]
  },
  {
   "cell_type": "code",
   "execution_count": 221,
   "metadata": {},
   "outputs": [
    {
     "data": {
      "image/png": "[encoded data removed]",
      "text/plain": [
       "<Figure size 720x576 with 1 Axes>"
      ]
     },
     "metadata": {
      "needs_background": "light"
     },
     "output_type": "display_data"
    }
   ],
   "source": [
    "plt.figure(figsize=(10,8))\n",
    "sns.lineplot(data=df_flight, x='Date_of_Journey',y='Price');"
   ]
  },
  {
   "cell_type": "markdown",
   "metadata": {},
   "source": [
    "## Insights:January month highest fare price and march monthlowest price "
   ]
  },
  {
   "cell_type": "code",
   "execution_count": 222,
   "metadata": {},
   "outputs": [
    {
     "data": {
      "image/png": "[encoded data removed]",
      "text/plain": [
       "<Figure size 432x288 with 1 Axes>"
      ]
     },
     "metadata": {
      "needs_background": "light"
     },
     "output_type": "display_data"
    }
   ],
   "source": [
    "df_flight.groupby(by='Airline').mean()['Price'].sort_values().plot(kind='bar');"
   ]
  },
  {
   "cell_type": "markdown",
   "metadata": {},
   "source": [
    "### Insights : Truejet Flights are cheapest"
   ]
  },
  {
   "cell_type": "markdown",
   "metadata": {},
   "source": [
    "## Data Cleaning"
   ]
  },
  {
   "cell_type": "code",
   "execution_count": 223,
   "metadata": {},
   "outputs": [
    {
     "data": {
      "text/plain": [
       "Airline            0\n",
       "Date_of_Journey    0\n",
       "Source             0\n",
       "Destination        0\n",
       "Route              1\n",
       "Dep_Time           0\n",
       "Arrival_Time       0\n",
       "Duration           0\n",
       "Total_Stops        1\n",
       "Additional_Info    0\n",
       "Price              0\n",
       "Date               0\n",
       "Month              0\n",
       "Year               0\n",
       "Day                0\n",
       "dtype: int64"
      ]
     },
     "execution_count": 223,
     "metadata": {},
     "output_type": "execute_result"
    }
   ],
   "source": [
    "df_flight.isna().sum()  # Check null values"
   ]
  },
  {
   "cell_type": "code",
   "execution_count": 224,
   "metadata": {},
   "outputs": [
    {
     "data": {
      "text/html": [
       "<div>\n",
       "<style scoped>\n",
       "    .dataframe tbody tr th:only-of-type {\n",
       "        vertical-align: middle;\n",
       "    }\n",
       "\n",
       "    .dataframe tbody tr th {\n",
       "        vertical-align: top;\n",
       "    }\n",
       "\n",
       "    .dataframe thead th {\n",
       "        text-align: right;\n",
       "    }\n",
       "</style>\n",
       "<table border=\"1\" class=\"dataframe\">\n",
       "  <thead>\n",
       "    <tr style=\"text-align: right;\">\n",
       "      <th></th>\n",
       "      <th>Airline</th>\n",
       "      <th>Source</th>\n",
       "      <th>Destination</th>\n",
       "      <th>Route</th>\n",
       "      <th>Dep_Time</th>\n",
       "      <th>Arrival_Time</th>\n",
       "      <th>Duration</th>\n",
       "      <th>Total_Stops</th>\n",
       "      <th>Additional_Info</th>\n",
       "      <th>Price</th>\n",
       "      <th>Date</th>\n",
       "      <th>Month</th>\n",
       "      <th>Year</th>\n",
       "      <th>Day_no</th>\n",
       "    </tr>\n",
       "  </thead>\n",
       "  <tbody>\n",
       "    <tr>\n",
       "      <th>0</th>\n",
       "      <td>IndiGo</td>\n",
       "      <td>Banglore</td>\n",
       "      <td>New Delhi</td>\n",
       "      <td>BLR → DEL</td>\n",
       "      <td>22:20</td>\n",
       "      <td>01:10 22 Mar</td>\n",
       "      <td>2h 50m</td>\n",
       "      <td>non-stop</td>\n",
       "      <td>No info</td>\n",
       "      <td>3897</td>\n",
       "      <td>24</td>\n",
       "      <td>3</td>\n",
       "      <td>2019</td>\n",
       "      <td>6</td>\n",
       "    </tr>\n",
       "    <tr>\n",
       "      <th>1</th>\n",
       "      <td>Air India</td>\n",
       "      <td>Kolkata</td>\n",
       "      <td>Banglore</td>\n",
       "      <td>CCU → IXR → BBI → BLR</td>\n",
       "      <td>05:50</td>\n",
       "      <td>13:15</td>\n",
       "      <td>7h 25m</td>\n",
       "      <td>2 stops</td>\n",
       "      <td>No info</td>\n",
       "      <td>7662</td>\n",
       "      <td>5</td>\n",
       "      <td>1</td>\n",
       "      <td>2019</td>\n",
       "      <td>5</td>\n",
       "    </tr>\n",
       "  </tbody>\n",
       "</table>\n",
       "</div>"
      ],
      "text/plain": [
       "     Airline    Source Destination                  Route Dep_Time  \\\n",
       "0     IndiGo  Banglore   New Delhi              BLR → DEL    22:20   \n",
       "1  Air India   Kolkata    Banglore  CCU → IXR → BBI → BLR    05:50   \n",
       "\n",
       "   Arrival_Time Duration Total_Stops Additional_Info  Price  Date  Month  \\\n",
       "0  01:10 22 Mar   2h 50m    non-stop         No info   3897    24      3   \n",
       "1         13:15   7h 25m     2 stops         No info   7662     5      1   \n",
       "\n",
       "   Year  Day_no  \n",
       "0  2019       6  \n",
       "1  2019       5  "
      ]
     },
     "execution_count": 224,
     "metadata": {},
     "output_type": "execute_result"
    }
   ],
   "source": [
    "df_flight['Day_no'] = df_flight['Date_of_Journey'].dt.dayofweek\n",
    "df_flight = df_flight.drop(labels=['Date_of_Journey','Day'],axis=1)\n",
    "df_flight.head(2)"
   ]
  },
  {
   "cell_type": "code",
   "execution_count": 225,
   "metadata": {},
   "outputs": [
    {
     "data": {
      "text/html": [
       "<div>\n",
       "<style scoped>\n",
       "    .dataframe tbody tr th:only-of-type {\n",
       "        vertical-align: middle;\n",
       "    }\n",
       "\n",
       "    .dataframe tbody tr th {\n",
       "        vertical-align: top;\n",
       "    }\n",
       "\n",
       "    .dataframe thead th {\n",
       "        text-align: right;\n",
       "    }\n",
       "</style>\n",
       "<table border=\"1\" class=\"dataframe\">\n",
       "  <thead>\n",
       "    <tr style=\"text-align: right;\">\n",
       "      <th></th>\n",
       "      <th>Airline</th>\n",
       "      <th>Source</th>\n",
       "      <th>Destination</th>\n",
       "      <th>Route</th>\n",
       "      <th>Dep_Time</th>\n",
       "      <th>Duration</th>\n",
       "      <th>Total_Stops</th>\n",
       "      <th>Additional_Info</th>\n",
       "      <th>Price</th>\n",
       "      <th>Date</th>\n",
       "      <th>Month</th>\n",
       "      <th>Year</th>\n",
       "      <th>Day_no</th>\n",
       "      <th>Arrival_hour</th>\n",
       "      <th>Arrival_min</th>\n",
       "    </tr>\n",
       "  </thead>\n",
       "  <tbody>\n",
       "    <tr>\n",
       "      <th>0</th>\n",
       "      <td>IndiGo</td>\n",
       "      <td>Banglore</td>\n",
       "      <td>New Delhi</td>\n",
       "      <td>BLR → DEL</td>\n",
       "      <td>22:20</td>\n",
       "      <td>2h 50m</td>\n",
       "      <td>non-stop</td>\n",
       "      <td>No info</td>\n",
       "      <td>3897</td>\n",
       "      <td>24</td>\n",
       "      <td>3</td>\n",
       "      <td>2019</td>\n",
       "      <td>6</td>\n",
       "      <td>1</td>\n",
       "      <td>10</td>\n",
       "    </tr>\n",
       "    <tr>\n",
       "      <th>1</th>\n",
       "      <td>Air India</td>\n",
       "      <td>Kolkata</td>\n",
       "      <td>Banglore</td>\n",
       "      <td>CCU → IXR → BBI → BLR</td>\n",
       "      <td>05:50</td>\n",
       "      <td>7h 25m</td>\n",
       "      <td>2 stops</td>\n",
       "      <td>No info</td>\n",
       "      <td>7662</td>\n",
       "      <td>5</td>\n",
       "      <td>1</td>\n",
       "      <td>2019</td>\n",
       "      <td>5</td>\n",
       "      <td>13</td>\n",
       "      <td>15</td>\n",
       "    </tr>\n",
       "  </tbody>\n",
       "</table>\n",
       "</div>"
      ],
      "text/plain": [
       "     Airline    Source Destination                  Route Dep_Time Duration  \\\n",
       "0     IndiGo  Banglore   New Delhi              BLR → DEL    22:20   2h 50m   \n",
       "1  Air India   Kolkata    Banglore  CCU → IXR → BBI → BLR    05:50   7h 25m   \n",
       "\n",
       "  Total_Stops Additional_Info  Price  Date  Month  Year  Day_no  Arrival_hour  \\\n",
       "0    non-stop         No info   3897    24      3  2019       6             1   \n",
       "1     2 stops         No info   7662     5      1  2019       5            13   \n",
       "\n",
       "   Arrival_min  \n",
       "0           10  \n",
       "1           15  "
      ]
     },
     "execution_count": 225,
     "metadata": {},
     "output_type": "execute_result"
    }
   ],
   "source": [
    "# Arrival Feature Engineering\n",
    "df_flight['Arrival_Time'] = df_flight['Arrival_Time'].apply(lambda s:s.split(' ')[0])\n",
    "df_flight['Arrival_hour'] = df_flight['Arrival_Time'].str.split(':').str[0]\n",
    "df_flight['Arrival_min'] = df_flight['Arrival_Time'].str.split(':').str[1]\n",
    "df_flight['Arrival_hour'] = df_flight['Arrival_hour'].astype(int)\n",
    "df_flight['Arrival_min'] = df_flight['Arrival_min'].astype(int)\n",
    "df_flight = df_flight.drop(labels=['Arrival_Time'],axis=1)\n",
    "df_flight.head(2)"
   ]
  },
  {
   "cell_type": "code",
   "execution_count": 226,
   "metadata": {},
   "outputs": [
    {
     "data": {
      "text/html": [
       "<div>\n",
       "<style scoped>\n",
       "    .dataframe tbody tr th:only-of-type {\n",
       "        vertical-align: middle;\n",
       "    }\n",
       "\n",
       "    .dataframe tbody tr th {\n",
       "        vertical-align: top;\n",
       "    }\n",
       "\n",
       "    .dataframe thead th {\n",
       "        text-align: right;\n",
       "    }\n",
       "</style>\n",
       "<table border=\"1\" class=\"dataframe\">\n",
       "  <thead>\n",
       "    <tr style=\"text-align: right;\">\n",
       "      <th></th>\n",
       "      <th>Airline</th>\n",
       "      <th>Source</th>\n",
       "      <th>Destination</th>\n",
       "      <th>Route</th>\n",
       "      <th>Duration</th>\n",
       "      <th>Total_Stops</th>\n",
       "      <th>Additional_Info</th>\n",
       "      <th>Price</th>\n",
       "      <th>Date</th>\n",
       "      <th>Month</th>\n",
       "      <th>Year</th>\n",
       "      <th>Day_no</th>\n",
       "      <th>Arrival_hour</th>\n",
       "      <th>Arrival_min</th>\n",
       "      <th>Dep_hour</th>\n",
       "      <th>Dep_min</th>\n",
       "    </tr>\n",
       "  </thead>\n",
       "  <tbody>\n",
       "    <tr>\n",
       "      <th>0</th>\n",
       "      <td>IndiGo</td>\n",
       "      <td>Banglore</td>\n",
       "      <td>New Delhi</td>\n",
       "      <td>BLR → DEL</td>\n",
       "      <td>2h 50m</td>\n",
       "      <td>non-stop</td>\n",
       "      <td>No info</td>\n",
       "      <td>3897</td>\n",
       "      <td>24</td>\n",
       "      <td>3</td>\n",
       "      <td>2019</td>\n",
       "      <td>6</td>\n",
       "      <td>1</td>\n",
       "      <td>10</td>\n",
       "      <td>22</td>\n",
       "      <td>20</td>\n",
       "    </tr>\n",
       "    <tr>\n",
       "      <th>1</th>\n",
       "      <td>Air India</td>\n",
       "      <td>Kolkata</td>\n",
       "      <td>Banglore</td>\n",
       "      <td>CCU → IXR → BBI → BLR</td>\n",
       "      <td>7h 25m</td>\n",
       "      <td>2 stops</td>\n",
       "      <td>No info</td>\n",
       "      <td>7662</td>\n",
       "      <td>5</td>\n",
       "      <td>1</td>\n",
       "      <td>2019</td>\n",
       "      <td>5</td>\n",
       "      <td>13</td>\n",
       "      <td>15</td>\n",
       "      <td>5</td>\n",
       "      <td>50</td>\n",
       "    </tr>\n",
       "  </tbody>\n",
       "</table>\n",
       "</div>"
      ],
      "text/plain": [
       "     Airline    Source Destination                  Route Duration  \\\n",
       "0     IndiGo  Banglore   New Delhi              BLR → DEL   2h 50m   \n",
       "1  Air India   Kolkata    Banglore  CCU → IXR → BBI → BLR   7h 25m   \n",
       "\n",
       "  Total_Stops Additional_Info  Price  Date  Month  Year  Day_no  Arrival_hour  \\\n",
       "0    non-stop         No info   3897    24      3  2019       6             1   \n",
       "1     2 stops         No info   7662     5      1  2019       5            13   \n",
       "\n",
       "   Arrival_min  Dep_hour  Dep_min  \n",
       "0           10        22       20  \n",
       "1           15         5       50  "
      ]
     },
     "execution_count": 226,
     "metadata": {},
     "output_type": "execute_result"
    }
   ],
   "source": [
    "# Departure Feature Engineering\n",
    "df_flight['Dep_hour'] = df_flight['Dep_Time'].str.split(':').str[0]\n",
    "df_flight['Dep_min'] = df_flight['Dep_Time'].str.split(':').str[1]\n",
    "df_flight['Dep_hour'] = df_flight['Dep_hour'].astype(int)\n",
    "df_flight['Dep_min'] = df_flight['Dep_min'].astype(int)\n",
    "df_flight = df_flight.drop(labels=['Dep_Time'],axis=1)\n",
    "df_flight.head(2)"
   ]
  },
  {
   "cell_type": "code",
   "execution_count": 227,
   "metadata": {},
   "outputs": [],
   "source": [
    "#Creating Function to get the duration of flight from string \n",
    "def get_duration_float(s):\n",
    "    if ((s.find('h')>0) and (s.find('m')>0)):\n",
    "        hrs = s.split('h')[0]\n",
    "        mins = s.split(' ')[1][:-1]\n",
    "    elif((s.find('h')>0) and (s.find('m')<0)):\n",
    "        hrs = s.split('h')[0]\n",
    "        mins = 0\n",
    "    elif((s.find('h')<0) and (s.find('m')>0)):\n",
    "        hrs = 0\n",
    "        mins = s.split('m')[0]\n",
    "    duration = float(hrs) + float(mins)/60\n",
    "    return duration"
   ]
  },
  {
   "cell_type": "code",
   "execution_count": 228,
   "metadata": {},
   "outputs": [
    {
     "data": {
      "text/html": [
       "<div>\n",
       "<style scoped>\n",
       "    .dataframe tbody tr th:only-of-type {\n",
       "        vertical-align: middle;\n",
       "    }\n",
       "\n",
       "    .dataframe tbody tr th {\n",
       "        vertical-align: top;\n",
       "    }\n",
       "\n",
       "    .dataframe thead th {\n",
       "        text-align: right;\n",
       "    }\n",
       "</style>\n",
       "<table border=\"1\" class=\"dataframe\">\n",
       "  <thead>\n",
       "    <tr style=\"text-align: right;\">\n",
       "      <th></th>\n",
       "      <th>Airline</th>\n",
       "      <th>Source</th>\n",
       "      <th>Destination</th>\n",
       "      <th>Route</th>\n",
       "      <th>Total_Stops</th>\n",
       "      <th>Additional_Info</th>\n",
       "      <th>Price</th>\n",
       "      <th>Date</th>\n",
       "      <th>Month</th>\n",
       "      <th>Year</th>\n",
       "      <th>Day_no</th>\n",
       "      <th>Arrival_hour</th>\n",
       "      <th>Arrival_min</th>\n",
       "      <th>Dep_hour</th>\n",
       "      <th>Dep_min</th>\n",
       "      <th>dur_float</th>\n",
       "    </tr>\n",
       "  </thead>\n",
       "  <tbody>\n",
       "    <tr>\n",
       "      <th>0</th>\n",
       "      <td>IndiGo</td>\n",
       "      <td>Banglore</td>\n",
       "      <td>New Delhi</td>\n",
       "      <td>BLR → DEL</td>\n",
       "      <td>non-stop</td>\n",
       "      <td>No info</td>\n",
       "      <td>3897</td>\n",
       "      <td>24</td>\n",
       "      <td>3</td>\n",
       "      <td>2019</td>\n",
       "      <td>6</td>\n",
       "      <td>1</td>\n",
       "      <td>10</td>\n",
       "      <td>22</td>\n",
       "      <td>20</td>\n",
       "      <td>2.833333</td>\n",
       "    </tr>\n",
       "    <tr>\n",
       "      <th>1</th>\n",
       "      <td>Air India</td>\n",
       "      <td>Kolkata</td>\n",
       "      <td>Banglore</td>\n",
       "      <td>CCU → IXR → BBI → BLR</td>\n",
       "      <td>2 stops</td>\n",
       "      <td>No info</td>\n",
       "      <td>7662</td>\n",
       "      <td>5</td>\n",
       "      <td>1</td>\n",
       "      <td>2019</td>\n",
       "      <td>5</td>\n",
       "      <td>13</td>\n",
       "      <td>15</td>\n",
       "      <td>5</td>\n",
       "      <td>50</td>\n",
       "      <td>7.416667</td>\n",
       "    </tr>\n",
       "  </tbody>\n",
       "</table>\n",
       "</div>"
      ],
      "text/plain": [
       "     Airline    Source Destination                  Route Total_Stops  \\\n",
       "0     IndiGo  Banglore   New Delhi              BLR → DEL    non-stop   \n",
       "1  Air India   Kolkata    Banglore  CCU → IXR → BBI → BLR     2 stops   \n",
       "\n",
       "  Additional_Info  Price  Date  Month  Year  Day_no  Arrival_hour  \\\n",
       "0         No info   3897    24      3  2019       6             1   \n",
       "1         No info   7662     5      1  2019       5            13   \n",
       "\n",
       "   Arrival_min  Dep_hour  Dep_min  dur_float  \n",
       "0           10        22       20   2.833333  \n",
       "1           15         5       50   7.416667  "
      ]
     },
     "execution_count": 228,
     "metadata": {},
     "output_type": "execute_result"
    }
   ],
   "source": [
    "df_flight['dur_float'] = df_flight['Duration'].apply(get_duration_float)\n",
    "df_flight = df_flight.drop(labels=['Duration'],axis=1)\n",
    "df_flight.head(2)"
   ]
  },
  {
   "cell_type": "code",
   "execution_count": 229,
   "metadata": {},
   "outputs": [],
   "source": [
    "df_flight['Total_Stops'] = df_flight['Total_Stops'].fillna(df_flight['Total_Stops'].mode()[0])"
   ]
  },
  {
   "cell_type": "code",
   "execution_count": 230,
   "metadata": {},
   "outputs": [
    {
     "data": {
      "text/html": [
       "<div>\n",
       "<style scoped>\n",
       "    .dataframe tbody tr th:only-of-type {\n",
       "        vertical-align: middle;\n",
       "    }\n",
       "\n",
       "    .dataframe tbody tr th {\n",
       "        vertical-align: top;\n",
       "    }\n",
       "\n",
       "    .dataframe thead th {\n",
       "        text-align: right;\n",
       "    }\n",
       "</style>\n",
       "<table border=\"1\" class=\"dataframe\">\n",
       "  <thead>\n",
       "    <tr style=\"text-align: right;\">\n",
       "      <th></th>\n",
       "      <th>Airline</th>\n",
       "      <th>Source</th>\n",
       "      <th>Destination</th>\n",
       "      <th>Route</th>\n",
       "      <th>Total_Stops</th>\n",
       "      <th>Additional_Info</th>\n",
       "      <th>Price</th>\n",
       "      <th>Date</th>\n",
       "      <th>Month</th>\n",
       "      <th>Year</th>\n",
       "      <th>Day_no</th>\n",
       "      <th>Arrival_hour</th>\n",
       "      <th>Arrival_min</th>\n",
       "      <th>Dep_hour</th>\n",
       "      <th>Dep_min</th>\n",
       "      <th>dur_float</th>\n",
       "    </tr>\n",
       "  </thead>\n",
       "  <tbody>\n",
       "    <tr>\n",
       "      <th>0</th>\n",
       "      <td>IndiGo</td>\n",
       "      <td>Banglore</td>\n",
       "      <td>New Delhi</td>\n",
       "      <td>BLR → DEL</td>\n",
       "      <td>0</td>\n",
       "      <td>No info</td>\n",
       "      <td>3897</td>\n",
       "      <td>24</td>\n",
       "      <td>3</td>\n",
       "      <td>2019</td>\n",
       "      <td>6</td>\n",
       "      <td>1</td>\n",
       "      <td>10</td>\n",
       "      <td>22</td>\n",
       "      <td>20</td>\n",
       "      <td>2.833333</td>\n",
       "    </tr>\n",
       "    <tr>\n",
       "      <th>1</th>\n",
       "      <td>Air India</td>\n",
       "      <td>Kolkata</td>\n",
       "      <td>Banglore</td>\n",
       "      <td>CCU → IXR → BBI → BLR</td>\n",
       "      <td>2</td>\n",
       "      <td>No info</td>\n",
       "      <td>7662</td>\n",
       "      <td>5</td>\n",
       "      <td>1</td>\n",
       "      <td>2019</td>\n",
       "      <td>5</td>\n",
       "      <td>13</td>\n",
       "      <td>15</td>\n",
       "      <td>5</td>\n",
       "      <td>50</td>\n",
       "      <td>7.416667</td>\n",
       "    </tr>\n",
       "  </tbody>\n",
       "</table>\n",
       "</div>"
      ],
      "text/plain": [
       "     Airline    Source Destination                  Route  Total_Stops  \\\n",
       "0     IndiGo  Banglore   New Delhi              BLR → DEL            0   \n",
       "1  Air India   Kolkata    Banglore  CCU → IXR → BBI → BLR            2   \n",
       "\n",
       "  Additional_Info  Price  Date  Month  Year  Day_no  Arrival_hour  \\\n",
       "0         No info   3897    24      3  2019       6             1   \n",
       "1         No info   7662     5      1  2019       5            13   \n",
       "\n",
       "   Arrival_min  Dep_hour  Dep_min  dur_float  \n",
       "0           10        22       20   2.833333  \n",
       "1           15         5       50   7.416667  "
      ]
     },
     "execution_count": 230,
     "metadata": {},
     "output_type": "execute_result"
    }
   ],
   "source": [
    "stops_mapper = {\n",
    "    'non-stop':0,\n",
    "    '1 stop':1,\n",
    "    '2 stops':2,\n",
    "    '3 stops':3,\n",
    "    '4 stops':4\n",
    "}\n",
    "df_flight['Total_Stops'] = df_flight['Total_Stops'].map(stops_mapper)\n",
    "df_flight.head(2)"
   ]
  },
  {
   "cell_type": "code",
   "execution_count": 231,
   "metadata": {},
   "outputs": [
    {
     "data": {
      "text/html": [
       "<div>\n",
       "<style scoped>\n",
       "    .dataframe tbody tr th:only-of-type {\n",
       "        vertical-align: middle;\n",
       "    }\n",
       "\n",
       "    .dataframe tbody tr th {\n",
       "        vertical-align: top;\n",
       "    }\n",
       "\n",
       "    .dataframe thead th {\n",
       "        text-align: right;\n",
       "    }\n",
       "</style>\n",
       "<table border=\"1\" class=\"dataframe\">\n",
       "  <thead>\n",
       "    <tr style=\"text-align: right;\">\n",
       "      <th></th>\n",
       "      <th>Airline</th>\n",
       "      <th>Source</th>\n",
       "      <th>Destination</th>\n",
       "      <th>Total_Stops</th>\n",
       "      <th>Price</th>\n",
       "      <th>Date</th>\n",
       "      <th>Month</th>\n",
       "      <th>Year</th>\n",
       "      <th>Day_no</th>\n",
       "      <th>Arrival_hour</th>\n",
       "      <th>Arrival_min</th>\n",
       "      <th>Dep_hour</th>\n",
       "      <th>Dep_min</th>\n",
       "      <th>dur_float</th>\n",
       "    </tr>\n",
       "  </thead>\n",
       "  <tbody>\n",
       "    <tr>\n",
       "      <th>0</th>\n",
       "      <td>IndiGo</td>\n",
       "      <td>Banglore</td>\n",
       "      <td>New Delhi</td>\n",
       "      <td>0</td>\n",
       "      <td>3897</td>\n",
       "      <td>24</td>\n",
       "      <td>3</td>\n",
       "      <td>2019</td>\n",
       "      <td>6</td>\n",
       "      <td>1</td>\n",
       "      <td>10</td>\n",
       "      <td>22</td>\n",
       "      <td>20</td>\n",
       "      <td>2.833333</td>\n",
       "    </tr>\n",
       "    <tr>\n",
       "      <th>1</th>\n",
       "      <td>Air India</td>\n",
       "      <td>Kolkata</td>\n",
       "      <td>Banglore</td>\n",
       "      <td>2</td>\n",
       "      <td>7662</td>\n",
       "      <td>5</td>\n",
       "      <td>1</td>\n",
       "      <td>2019</td>\n",
       "      <td>5</td>\n",
       "      <td>13</td>\n",
       "      <td>15</td>\n",
       "      <td>5</td>\n",
       "      <td>50</td>\n",
       "      <td>7.416667</td>\n",
       "    </tr>\n",
       "  </tbody>\n",
       "</table>\n",
       "</div>"
      ],
      "text/plain": [
       "     Airline    Source Destination  Total_Stops  Price  Date  Month  Year  \\\n",
       "0     IndiGo  Banglore   New Delhi            0   3897    24      3  2019   \n",
       "1  Air India   Kolkata    Banglore            2   7662     5      1  2019   \n",
       "\n",
       "   Day_no  Arrival_hour  Arrival_min  Dep_hour  Dep_min  dur_float  \n",
       "0       6             1           10        22       20   2.833333  \n",
       "1       5            13           15         5       50   7.416667  "
      ]
     },
     "execution_count": 231,
     "metadata": {},
     "output_type": "execute_result"
    }
   ],
   "source": [
    "# Drop route and additional info\n",
    "df_flight = df_flight.drop(labels=['Route','Additional_Info'],axis=1)\n",
    "df_flight.head(2)"
   ]
  },
  {
   "cell_type": "code",
   "execution_count": 232,
   "metadata": {},
   "outputs": [
    {
     "data": {
      "text/plain": [
       "222"
      ]
     },
     "execution_count": 232,
     "metadata": {},
     "output_type": "execute_result"
    }
   ],
   "source": [
    "df_flight.duplicated().sum()"
   ]
  },
  {
   "cell_type": "code",
   "execution_count": 233,
   "metadata": {},
   "outputs": [],
   "source": [
    "df_flight = df_flight.drop_duplicates(keep='first')"
   ]
  },
  {
   "cell_type": "code",
   "execution_count": 234,
   "metadata": {},
   "outputs": [],
   "source": [
    "# Save Clean File as csv\n",
    "df_flight.to_csv('/FLIGHT_PRICE_ANALYSIS/flight_cleaned.csv')"
   ]
  }
 ],
 "metadata": {
  "kernelspec": {
   "display_name": "base",
   "language": "python",
   "name": "python3"
  },
  "language_info": {
   "codemirror_mode": {
    "name": "ipython",
    "version": 3
   },
   "file_extension": ".py",
   "mimetype": "text/x-python",
   "name": "python",
   "nbconvert_exporter": "python",
   "pygments_lexer": "ipython3",
   "version": "3.9.12"
  },
  "orig_nbformat": 4
 },
 "nbformat": 4,
 "nbformat_minor": 2
}
